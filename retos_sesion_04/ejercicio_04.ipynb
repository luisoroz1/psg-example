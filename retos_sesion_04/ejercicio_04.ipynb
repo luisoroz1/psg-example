{
 "cells": [
  {
   "cell_type": "markdown",
   "metadata": {},
   "source": [
    "# Descripcion:\n",
    "\n",
    "Ete es un juego de memoria simple diseñado para niños menores de 5 años. El objetivo es encontrar las parejas de animales ocultas en el tablero. ¡Diviértete mientras ejercitas tu memoria!"
   ]
  },
  {
   "cell_type": "markdown",
   "metadata": {},
   "source": [
    "# Reglas:\n",
    "1.  El tablero contiene cartas con imágenes de diferentes animales.\n",
    "2.  Las cartas están boca abajo al principio.\n",
    "3.  El jugador debe voltear dos cartas en cada turno.\n",
    "4.  Si las cartas tienen la misma imagen, se retiran del tablero.\n",
    "5.  Si las cartas son diferentes, se vuelven a voltear boca abajo.\n",
    "6.  El juego continúa hasta que todas las parejas de animales se encuentren."
   ]
  },
  {
   "cell_type": "markdown",
   "metadata": {},
   "source": [
    "# Diseño del Tablero (4x4)"
   ]
  },
  {
   "cell_type": "code",
   "execution_count": 6,
   "metadata": {},
   "outputs": [
    {
     "name": "stdout",
     "output_type": "stream",
     "text": [
      "🐶 🐱 🐰 🐶\n",
      "🐰 🐱 🐶 🐰\n",
      "🐱 🐶 🐰 🐱\n",
      "🐰 🐶 🐱 🐰\n"
     ]
    }
   ],
   "source": [
    "# Crear un tablero de 4x4 con imágenes de animales\n",
    "tablero = [\n",
    "    [\"🐶\", \"🐱\", \"🐰\", \"🐶\"],\n",
    "    [\"🐰\", \"🐱\", \"🐶\", \"🐰\"],\n",
    "    [\"🐱\", \"🐶\", \"🐰\", \"🐱\"],\n",
    "    [\"🐰\", \"🐶\", \"🐱\", \"🐰\"]\n",
    "]\n",
    "\n",
    "# Imprimir el tablero\n",
    "for fila in tablero:\n",
    "    print(\" \".join(fila))"
   ]
  },
  {
   "cell_type": "markdown",
   "metadata": {},
   "source": [
    "# Descripción de las Piezas\n",
    "🐶: Perro\n",
    "🐱: Gato\n",
    "🐰: Conejo"
   ]
  }
 ],
 "metadata": {
  "kernelspec": {
   "display_name": "Python 3",
   "language": "python",
   "name": "python3"
  },
  "language_info": {
   "codemirror_mode": {
    "name": "ipython",
    "version": 3
   },
   "file_extension": ".py",
   "mimetype": "text/x-python",
   "name": "python",
   "nbconvert_exporter": "python",
   "pygments_lexer": "ipython3",
   "version": "3.12.3"
  }
 },
 "nbformat": 4,
 "nbformat_minor": 2
}
