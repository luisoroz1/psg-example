{
 "cells": [
  {
   "cell_type": "markdown",
   "metadata": {},
   "source": [
    "# Crear una imagen utilizando símbolos y prints\n",
    "Símbolos: * - , () \\ | / _ \" ' = C\n",
    "Ejemplo\n",
    " (()(()\n",
    " (=*_*)/\")\n",
    "C(,,)(,,)"
   ]
  },
  {
   "cell_type": "code",
   "execution_count": 3,
   "metadata": {},
   "outputs": [
    {
     "name": "stdout",
     "output_type": "stream",
     "text": [
      "(()(()\n",
      "(=*_*)/\n",
      "C(,,)(,,)\n"
     ]
    }
   ],
   "source": [
    "print(\"(()(()\")\n",
    "print(\"(=*_*)/\")\n",
    "print(\"C(,,)(,,)\")\n"
   ]
  },
  {
   "cell_type": "code",
   "execution_count": null,
   "metadata": {},
   "outputs": [],
   "source": []
  }
 ],
 "metadata": {
  "kernelspec": {
   "display_name": "Python 3",
   "language": "python",
   "name": "python3"
  },
  "language_info": {
   "codemirror_mode": {
    "name": "ipython",
    "version": 3
   },
   "file_extension": ".py",
   "mimetype": "text/x-python",
   "name": "python",
   "nbconvert_exporter": "python",
   "pygments_lexer": "ipython3",
   "version": "3.12.3"
  }
 },
 "nbformat": 4,
 "nbformat_minor": 2
}
