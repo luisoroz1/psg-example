{
 "cells": [
  {
   "cell_type": "markdown",
   "metadata": {},
   "source": [
    "#Tipos de datos"
   ]
  },
  {
   "cell_type": "code",
   "execution_count": 1,
   "metadata": {},
   "outputs": [
    {
     "name": "stdout",
     "output_type": "stream",
     "text": [
      "Tipos de datos booleanos\n",
      "True\n",
      "False\n",
      "2\n",
      "1\n",
      "0\n",
      "0\n",
      "0\n"
     ]
    }
   ],
   "source": [
    "print (\"Tipos de datos booleanos\")\n",
    "print (True)\n",
    "print (False)\n",
    "print (True + True)\n",
    "print (True * True)\n",
    "print (True * False)\n",
    "print (False + False)\n",
    "print (False * False)"
   ]
  },
  {
   "cell_type": "markdown",
   "metadata": {},
   "source": [
    "#Al ser una subclase de los enteros se puede realizar operaciones aritméticas entre números y booleanos"
   ]
  },
  {
   "cell_type": "code",
   "execution_count": 2,
   "metadata": {},
   "outputs": [
    {
     "name": "stdout",
     "output_type": "stream",
     "text": [
      "Números y booleanos\n",
      "11\n",
      "10\n",
      "10\n",
      "0\n"
     ]
    }
   ],
   "source": [
    "print (\"Números y booleanos\")\n",
    "print (10 + True)\n",
    "print (10 + False)\n",
    "print (10 * True)\n",
    "print (10 * False)"
   ]
  },
  {
   "cell_type": "markdown",
   "metadata": {},
   "source": [
    "#¿Cómo declaro un booleano?\n",
    "1. Directamente en el código escribiendo True o False sin necesidad de comillas"
   ]
  },
  {
   "cell_type": "code",
   "execution_count": 3,
   "metadata": {},
   "outputs": [
    {
     "name": "stdout",
     "output_type": "stream",
     "text": [
      "True\n",
      "<class 'bool'>\n",
      "False\n",
      "<class 'bool'>\n"
     ]
    }
   ],
   "source": [
    "var_booleana = True\n",
    "print (var_booleana)\n",
    "print (type(var_booleana))\n",
    "var_booleana = False\n",
    "print (var_booleana)\n",
    "print (type(var_booleana))"
   ]
  },
  {
   "cell_type": "markdown",
   "metadata": {},
   "source": [
    "2. Mediante la función bool()"
   ]
  },
  {
   "cell_type": "code",
   "execution_count": 4,
   "metadata": {},
   "outputs": [
    {
     "name": "stdout",
     "output_type": "stream",
     "text": [
      "Declarar mediante función bool()\n",
      "True\n",
      "<class 'bool'>\n",
      "False\n",
      "<class 'bool'>\n",
      "True\n",
      "<class 'bool'>\n"
     ]
    }
   ],
   "source": [
    "print (\"Declarar mediante función bool()\")\n",
    "var_booleana = bool(1)\n",
    "print (var_booleana)\n",
    "print (type(var_booleana))\n",
    "var_booleana = bool(0)\n",
    "print (var_booleana)\n",
    "print (type(var_booleana))\n",
    "var_booleana = bool(15)\n",
    "print (var_booleana)\n",
    "print (type(var_booleana))"
   ]
  },
  {
   "cell_type": "markdown",
   "metadata": {},
   "source": [
    "3. Como resultado de una operación de comparadores lógicos\n",
    "   \n",
    "# Operadores de comparación\n",
    "Los operadores de comparación son utilizados para comparar dos valores\n",
    "Como vimos en la \"Sesión 05: Datos Numéricos\"\n",
    "Existen operadores para realizar una comparación entre números\n",
    "Se adicionan dos más en total teniendo 8 operadores básicos\n",
    "\n",
    "< : Estrictamente menor que\n",
    "> : Estrictamente mayor que\n",
    "<= : Menor o igual que\n",
    ">= : Mayor o igual que\n",
    "== : Estrictamente igual que\n",
    "!= : Estrictamente diferente que\n",
    "is : igualdad a nivel de identidad si son el mismo objeto\n",
    "is not: desigualdad a nivel de identidad si no son el mismo objeto\n",
    "\n",
    "El resultados de la operación de comparación es un objeto de tipo bool- Puede ser True or False"
   ]
  },
  {
   "cell_type": "code",
   "execution_count": 5,
   "metadata": {},
   "outputs": [
    {
     "name": "stdout",
     "output_type": "stream",
     "text": [
      "Operadores de comparación\n",
      "True\n",
      "False\n",
      "False\n",
      "False\n",
      "True\n",
      "True\n",
      "True\n",
      "False\n"
     ]
    },
    {
     "name": "stderr",
     "output_type": "stream",
     "text": [
      "<>:8: SyntaxWarning: \"is\" with 'int' literal. Did you mean \"==\"?\n",
      "<>:9: SyntaxWarning: \"is not\" with 'int' literal. Did you mean \"!=\"?\n",
      "<>:8: SyntaxWarning: \"is\" with 'int' literal. Did you mean \"==\"?\n",
      "<>:9: SyntaxWarning: \"is not\" with 'int' literal. Did you mean \"!=\"?\n",
      "C:\\Users\\Jose\\AppData\\Local\\Temp\\ipykernel_25588\\1932318903.py:8: SyntaxWarning: \"is\" with 'int' literal. Did you mean \"==\"?\n",
      "  print (10 is 10)\n",
      "C:\\Users\\Jose\\AppData\\Local\\Temp\\ipykernel_25588\\1932318903.py:9: SyntaxWarning: \"is not\" with 'int' literal. Did you mean \"!=\"?\n",
      "  print (10 is not 10)\n"
     ]
    }
   ],
   "source": [
    "print (\"Operadores de comparación\")\n",
    "print (10 == 10)\n",
    "print (10 != 10)\n",
    "print (10 < 10)\n",
    "print (10 > 10)\n",
    "print (10 <= 10)\n",
    "print (10 >= 10)\n",
    "print (10 is 10)\n",
    "print (10 is not 10)"
   ]
  },
  {
   "cell_type": "markdown",
   "metadata": {},
   "source": [
    "# Los resultados de los comparadores pueden ser asignados a variables y ser utilizados como parte también de expresiones lógicas más complejas\n"
   ]
  },
  {
   "cell_type": "code",
   "execution_count": 6,
   "metadata": {},
   "outputs": [
    {
     "name": "stdout",
     "output_type": "stream",
     "text": [
      "True\n",
      "False\n"
     ]
    }
   ],
   "source": [
    "x = 10\n",
    "mayor_que_cero = x > 0\n",
    "print (mayor_que_cero)\n",
    "diferente_de_10 = x != 10\n",
    "print (diferente_de_10)"
   ]
  },
  {
   "cell_type": "markdown",
   "metadata": {},
   "source": [
    "Existen tres expresiones lógicas:\n",
    "\n",
    "Not: \"NO\", esta expresión es unitaria solo necesita un operador y su objetivo es invertir la expresión\n",
    "Si el operador es True el resultado es False, si el operador es False el resultado es True\n",
    "\n",
    "And: \"Y\", esta expresión necesita dos operadores\n",
    "Si los dos operadores son Verdaderos el resultado es Verdadero, si alguno de los operadores es \n",
    "Falso entonces el resultado es Falso\n",
    "\n",
    "Or : \"O\", esta expresión necesita dos operadores\n",
    "Si al menos uno de los operadores es verdadero el resultado es Verdadero, si los dos operadores son\n",
    "Falsos entonces el resultado es Falso"
   ]
  },
  {
   "cell_type": "code",
   "execution_count": 7,
   "metadata": {},
   "outputs": [
    {
     "name": "stdout",
     "output_type": "stream",
     "text": [
      "Operadores lógicos\n",
      "True\n",
      "False\n",
      "True\n",
      "False\n",
      "False\n",
      "True\n"
     ]
    }
   ],
   "source": [
    "print (\"Operadores lógicos\")\n",
    "print (True and True)\n",
    "print (True and False)\n",
    "print (False or True)\n",
    "print (False or False)\n",
    "print (not True)\n",
    "print (not False)"
   ]
  },
  {
   "cell_type": "markdown",
   "metadata": {},
   "source": [
    "# Siguen un orden de prioridad al momento de ser evaluados\n",
    "\n",
    "Se ejecuta el operador de negación \"not\"\n",
    "Se evalúan las operaciones de conjunción \"and\"\n",
    "Finalmente las operaciones de disyunción \"or\"\n",
    "Se puede utilizar paréntesis para evaluar una operación antes que otra como en los operadores aritméticos\n"
   ]
  },
  {
   "cell_type": "code",
   "execution_count": 8,
   "metadata": {},
   "outputs": [
    {
     "name": "stdout",
     "output_type": "stream",
     "text": [
      "Operadores lógicos y prioridad\n",
      "True\n",
      "False\n",
      "True\n",
      "True\n",
      "False\n",
      "False\n"
     ]
    }
   ],
   "source": [
    "print (\"Operadores lógicos y prioridad\")\n",
    "print (False and False or True)\n",
    "print (False and (False or True))\n",
    "print (not True and False or True)\n",
    "print (not (True and False or False))\n",
    "print (not True and (False or False))\n",
    "print (not True and False or False)"
   ]
  },
  {
   "cell_type": "markdown",
   "metadata": {},
   "source": [
    "# Funciones lógicas básicas y Tablas de Verdad\n",
    "\n",
    "Las tablas de verdad son una herramienta que nos permite representar la lógica de los circuitos digitales\n",
    "Sus combinaciones de entrada y salida en términos\n",
    "(1 y 0) o (Verdad y Falso)\n",
    "\n",
    "Las tres unidades básicas son:\n",
    "AND: Producto booleano\n",
    "OR: Suma booleana\n",
    "NOT: Negación booleana\n",
    "Se puede representar sus tablas de verdad\n",
    "\n"
   ]
  },
  {
   "cell_type": "markdown",
   "metadata": {},
   "source": [
    "# Existen otras funciones lógicas que nacen a partir de las tres fundamentales\n",
    "NAND: Negación de la función AND\n",
    "NOR: Negación de la función OR"
   ]
  },
  {
   "cell_type": "markdown",
   "metadata": {},
   "source": [
    "XOR: Función O exclusiva, True cuando los dos términos son diferentes y False cuando son Iguales \n",
    "\"O el uno O el otro\" XNOR: Negación de la función XOR\n"
   ]
  },
  {
   "cell_type": "markdown",
   "metadata": {},
   "source": [
    "En Python vimos que los operadores AND, OR, NOT están por defecto como palabras reservadas\n",
    "El caso de NAND, NOR, XOR, XNOR no existen\n",
    "Pueden ser construidas fácilmente utilizando los tres operadores fundamentales"
   ]
  },
  {
   "cell_type": "code",
   "execution_count": 9,
   "metadata": {},
   "outputs": [
    {
     "name": "stdout",
     "output_type": "stream",
     "text": [
      "Operador AND\n",
      "True\n",
      "False\n",
      "False\n",
      "False\n"
     ]
    }
   ],
   "source": [
    "#AND\n",
    "print (\"Operador AND\")\n",
    "print (True and True)\n",
    "print (True and False)\n",
    "print (False and True)\n",
    "print (False and False)"
   ]
  },
  {
   "cell_type": "code",
   "execution_count": 10,
   "metadata": {},
   "outputs": [
    {
     "name": "stdout",
     "output_type": "stream",
     "text": [
      "Operador OR\n",
      "True\n",
      "True\n",
      "True\n",
      "False\n"
     ]
    }
   ],
   "source": [
    "#OR\n",
    "print (\"Operador OR\")\n",
    "print (True or True)\n",
    "print (True or False)\n",
    "print (False or True)\n",
    "print (False or False)"
   ]
  },
  {
   "cell_type": "code",
   "execution_count": 11,
   "metadata": {},
   "outputs": [
    {
     "name": "stdout",
     "output_type": "stream",
     "text": [
      "Operador NOT\n",
      "False\n",
      "True\n"
     ]
    }
   ],
   "source": [
    "#NOT\n",
    "print (\"Operador NOT\")\n",
    "print (not True)\n",
    "print (not False)"
   ]
  },
  {
   "cell_type": "code",
   "execution_count": 12,
   "metadata": {},
   "outputs": [
    {
     "name": "stdout",
     "output_type": "stream",
     "text": [
      "Operador NAND\n",
      "False\n",
      "True\n",
      "True\n",
      "True\n"
     ]
    }
   ],
   "source": [
    "#NAND\n",
    "print (\"Operador NAND\")\n",
    "print (not (True and True))\n",
    "print (not (True and False))\n",
    "print (not (False and True))\n",
    "print (not (False and False))"
   ]
  },
  {
   "cell_type": "code",
   "execution_count": 13,
   "metadata": {},
   "outputs": [
    {
     "name": "stdout",
     "output_type": "stream",
     "text": [
      "Operador NOR\n",
      "False\n",
      "False\n",
      "False\n",
      "True\n"
     ]
    }
   ],
   "source": [
    "#NOR\n",
    "print (\"Operador NOR\")\n",
    "print (not (True or True))\n",
    "print (not (True or False))\n",
    "print (not (False or True))\n",
    "print (not (False or False))"
   ]
  },
  {
   "cell_type": "code",
   "execution_count": 14,
   "metadata": {},
   "outputs": [
    {
     "name": "stdout",
     "output_type": "stream",
     "text": [
      "Operador XOR\n",
      "True\n",
      "False\n"
     ]
    }
   ],
   "source": [
    "#XOR\n",
    "print (\"Operador XOR\")\n",
    "a = True\n",
    "b = False\n",
    "print ((a or b) and not (a and b))\n",
    "a = True\n",
    "b = True\n",
    "print ((a or b) and not (a and b))"
   ]
  },
  {
   "cell_type": "markdown",
   "metadata": {},
   "source": [
    "# Si un sensor detecta movimiento y tiene batería entonces enciende la luz"
   ]
  },
  {
   "cell_type": "code",
   "execution_count": 15,
   "metadata": {},
   "outputs": [
    {
     "name": "stdout",
     "output_type": "stream",
     "text": [
      "Ejemplo de uso Sensor y Batería\n",
      "True and True = True\n",
      "True and False = False\n",
      "False and True = False\n",
      "False and False = False\n"
     ]
    }
   ],
   "source": [
    "print (\"Ejemplo de uso Sensor y Batería\")\n",
    "sensor = True\n",
    "bateria = True\n",
    "print (sensor, \"and\", bateria, \"=\", sensor and bateria)\n",
    "sensor = True\n",
    "bateria = False\n",
    "print (sensor, \"and\", bateria, \"=\", sensor and bateria)\n",
    "sensor = False\n",
    "bateria = True\n",
    "print (sensor, \"and\", bateria, \"=\", sensor and bateria)\n",
    "sensor = False\n",
    "bateria = False\n",
    "print (sensor, \"and\", bateria, \"=\", sensor and bateria)"
   ]
  },
  {
   "cell_type": "markdown",
   "metadata": {},
   "source": [
    "# Ejemplo 1\n",
    "Determinar si el número 20 está en el rango 0 a 100"
   ]
  },
  {
   "cell_type": "code",
   "execution_count": 16,
   "metadata": {},
   "outputs": [
    {
     "name": "stdout",
     "output_type": "stream",
     "text": [
      "Ejemplo 1 - Comparación y Lógicos\n",
      "True\n"
     ]
    }
   ],
   "source": [
    "print (\"Ejemplo 1 - Comparación y Lógicos\")\n",
    "numero = 20\n",
    "print (numero >= 0 and numero <= 100)"
   ]
  },
  {
   "cell_type": "markdown",
   "metadata": {},
   "source": [
    "# Ejemplo 2\n",
    "Un estudiante obtuvo las siguientes notas en sus exámenes: 15, 20, 16 \n",
    "determinar si el estudiante aprobó con una nota superior a 50\"\"\"\n"
   ]
  },
  {
   "cell_type": "code",
   "execution_count": 17,
   "metadata": {},
   "outputs": [
    {
     "name": "stdout",
     "output_type": "stream",
     "text": [
      "Ejemplo 2 - Aritméticos y comparación\n",
      "True\n"
     ]
    }
   ],
   "source": [
    "print (\"Ejemplo 2 - Aritméticos y comparación\")\n",
    "nota1 = 15\n",
    "nota2 = 20\n",
    "nota3 = 16\n",
    "print ((nota1 + nota2 + nota3) > 50)"
   ]
  },
  {
   "cell_type": "markdown",
   "metadata": {},
   "source": [
    "# Ejemplo 3\n",
    "Determinar si el número 15 es divisible por 3 y 5, pero no por 2"
   ]
  },
  {
   "cell_type": "code",
   "execution_count": 18,
   "metadata": {},
   "outputs": [
    {
     "name": "stdout",
     "output_type": "stream",
     "text": [
      "Ejemplo 3 - Aritméticos, comparación y lógicos\n",
      "True\n"
     ]
    }
   ],
   "source": [
    "print (\"Ejemplo 3 - Aritméticos, comparación y lógicos\")\n",
    "numero = 15\n",
    "print ((numero % 3 ==0) and (numero % 5 ==0) and (numero % 2 !=0))"
   ]
  },
  {
   "cell_type": "markdown",
   "metadata": {},
   "source": [
    "# Cortocircuitos\n",
    "Es un comportamiento de los operadores lógicos \"and\" y \"or\" al momento de evaluar expresiones booleanas\n",
    "Se basa en la evaluación perezosa Cortocircuito con \"and\": Cuando se evalúa una expresión en la cual el primer término de la expresión es False\n",
    "no importa el resultado del segundo término la expresión siempre será False\n",
    "Por lo cual no evalúa al segundo término por ya sabe que será False el resultado\n"
   ]
  },
  {
   "cell_type": "code",
   "execution_count": 19,
   "metadata": {},
   "outputs": [
    {
     "name": "stdout",
     "output_type": "stream",
     "text": [
      "Cortocircuito con operador and\n",
      "False\n"
     ]
    }
   ],
   "source": [
    "print (\"Cortocircuito con operador and\")\n",
    "x = 1\n",
    "y = 0\n",
    "print (x > 2 and (x/y) > 2)\n",
    "#print (x > 0 and (x/y) > 0)"
   ]
  },
  {
   "cell_type": "markdown",
   "metadata": {},
   "source": [
    "# Cortocircuito con \"or\": \n",
    "Cuando se evalúa una expresión en la cual el primer término de la expresión es True\n",
    "El resultado siempre será True por lo que Python no evalúa el segundo término\n",
    "Ya que sabe cuál será el resultado"
   ]
  },
  {
   "cell_type": "code",
   "execution_count": 20,
   "metadata": {},
   "outputs": [
    {
     "name": "stdout",
     "output_type": "stream",
     "text": [
      "Cortocircuito con operador or\n",
      "True\n"
     ]
    },
    {
     "ename": "ZeroDivisionError",
     "evalue": "division by zero",
     "output_type": "error",
     "traceback": [
      "\u001b[1;31m---------------------------------------------------------------------------\u001b[0m",
      "\u001b[1;31mZeroDivisionError\u001b[0m                         Traceback (most recent call last)",
      "Cell \u001b[1;32mIn[20], line 5\u001b[0m\n\u001b[0;32m      3\u001b[0m y \u001b[38;5;241m=\u001b[39m \u001b[38;5;241m0\u001b[39m\n\u001b[0;32m      4\u001b[0m \u001b[38;5;28mprint\u001b[39m (x \u001b[38;5;241m>\u001b[39m \u001b[38;5;241m0\u001b[39m \u001b[38;5;129;01mor\u001b[39;00m (x\u001b[38;5;241m/\u001b[39my) \u001b[38;5;241m>\u001b[39m \u001b[38;5;241m0\u001b[39m)\n\u001b[1;32m----> 5\u001b[0m \u001b[38;5;28mprint\u001b[39m (x \u001b[38;5;241m>\u001b[39m \u001b[38;5;241m2\u001b[39m \u001b[38;5;129;01mor\u001b[39;00m (\u001b[43mx\u001b[49m\u001b[38;5;241;43m/\u001b[39;49m\u001b[43my\u001b[49m) \u001b[38;5;241m>\u001b[39m \u001b[38;5;241m2\u001b[39m)\n",
      "\u001b[1;31mZeroDivisionError\u001b[0m: division by zero"
     ]
    }
   ],
   "source": [
    "print (\"Cortocircuito con operador or\")\n",
    "x = 1\n",
    "y = 0\n",
    "print (x > 0 or (x/y) > 0)\n",
    "print (x > 2 or (x/y) > 2)"
   ]
  }
 ],
 "metadata": {
  "kernelspec": {
   "display_name": "Python 3",
   "language": "python",
   "name": "python3"
  },
  "language_info": {
   "codemirror_mode": {
    "name": "ipython",
    "version": 3
   },
   "file_extension": ".py",
   "mimetype": "text/x-python",
   "name": "python",
   "nbconvert_exporter": "python",
   "pygments_lexer": "ipython3",
   "version": "3.12.3"
  }
 },
 "nbformat": 4,
 "nbformat_minor": 2
}
